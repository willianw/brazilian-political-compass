{
 "cells": [
  {
   "cell_type": "code",
   "execution_count": 8,
   "metadata": {},
   "outputs": [],
   "source": [
    "%matplotlib inline"
   ]
  },
  {
   "cell_type": "code",
   "execution_count": 7,
   "metadata": {},
   "outputs": [],
   "source": [
    "from sklearn.decomposition import PCA\n",
    "from matplotlib.offsetbox import OffsetImage, AnnotationBbox\n",
    "import numpy as np\n",
    "import matplotlib.pyplot as plt\n",
    "from matplotlib import animation, rc\n",
    "from IPython.display import HTML\n",
    "import glob\n",
    "import matplotlib.pyplot as plt\n",
    "import seaborn as sns\n",
    "import pandas as pd\n",
    "import numpy as np\n",
    "import PIL\n",
    "from datetime import datetime"
   ]
  },
  {
   "cell_type": "code",
   "execution_count": 10,
   "metadata": {},
   "outputs": [],
   "source": [
    "cand = pd.read_csv('data/candidatos.csv')\n",
    "votos = pd.read_csv('data/votos.csv')"
   ]
  },
  {
   "cell_type": "code",
   "execution_count": 11,
   "metadata": {},
   "outputs": [],
   "source": [
    "votos['date'] = votos['date'].apply(lambda x: datetime.strptime(x, '%Y-%m-%d %H:%M:%S'))\n",
    "votos['ano'] = votos['date'].apply(lambda x:x.year)"
   ]
  },
  {
   "cell_type": "code",
   "execution_count": 12,
   "metadata": {},
   "outputs": [],
   "source": [
    "df = pd.merge(cand[['ano', 'candidato_id', 'partido']],\n",
    "                votos, on=['candidato_id', 'ano'], how='inner')"
   ]
  },
  {
   "cell_type": "code",
   "execution_count": 13,
   "metadata": {},
   "outputs": [],
   "source": [
    "def pca_over_year(year):\n",
    "    v = pd.pivot_table(df[df['ano'] == year],\n",
    "                       values='voto',index=['candidato_id', 'partido'],\n",
    "                       columns='sessao_id', fill_value=0)\n",
    "    part = v.reset_index().drop('candidato_id', axis=1)\n",
    "    part = part.groupby('partido').mean()\n",
    "    x, y = PCA(2).fit_transform(part).T\n",
    "    return part.index.tolist(), x, y"
   ]
  },
  {
   "cell_type": "code",
   "execution_count": 14,
   "metadata": {},
   "outputs": [],
   "source": [
    "def cvtcolor(path):\n",
    "    PIL.Image.open(path).convert(\"RGBA\").save(path)"
   ]
  },
  {
   "cell_type": "code",
   "execution_count": 15,
   "metadata": {},
   "outputs": [],
   "source": [
    "def getImage(partido):\n",
    "    p = partido.upper().replace(' ', '')\n",
    "    path = glob.glob(f\"../logos/{p}.*\")[0]\n",
    "    img = PIL.Image.open(path)\n",
    "    img.thumbnail((50, 50))\n",
    "    return OffsetImage(img)\n",
    "\n",
    "def spectre(year):\n",
    "    fig, ax = plt.subplots(figsize=(20, 6))\n",
    "    part, x, y, = pca_over_year(year)\n",
    "    sns.scatterplot(-x, y, hue=part)\n",
    "    for x0, y0, path in zip(-x, y, part):\n",
    "        ab = AnnotationBbox(getImage(path), (x0, y0), frameon=False)\n",
    "        ax.add_artist(ab)"
   ]
  },
  {
   "cell_type": "code",
   "execution_count": null,
   "metadata": {},
   "outputs": [
    {
     "name": "stdout",
     "output_type": "stream",
     "text": [
      "PCDOB PDT PFL PL PMDB PPB PPS PRONA PSB PSD PSDB PSTU PT PTB PV S.PART. PCDOB PDT PFL PL PMDB PPB PPS PRONA PSB PSD PSDB PSTU PT PTB PV S.PART. PCDOB PDT PFL PL PMDB PPB PPS PRONA PSB PSD PSDB PSTU PT PTB PV S.PART. PCDOB PDT PFL PL PMDB PPB PPS PRONA PSB PSD PSDB PSTU PT PTB PV S.PART. PCDOB PDT PFL PHS PL PMDB PPB PPS PSB PSC PSDB PSL PST PT PTB PTN PV S.PART. PCDOB PDT PFL PHS PL PMDB PPB PPS PSB PSDB PSL PST PT PTB PTN PV S.PART. PCDOB PDT PFL PHS PL PMDB PPB PPS PSB PSDB PSL PST PT PTB PTN PV S.PART. PCDOB PDT PFL PL PMDB PP PPS PR PSB PSC PSDB PSOL PT PTB PTC PV S.PART. PCDOB PDT PFL PL PMDB PP PPS PR PSB PSC PSDB PSOL PT PTB PTC PV S.PART. PCDOB PDT PFL PMDB PP PPS PR PSB PSC PSDB PSOL PT PTB PTC PV S.PART. DEM PCDOB PDT PHS PMDB PMN PP PPS PR PRB PRTB PSB PSC PSDB PSOL PT PTB PTC PTDOB PV DEM "
     ]
    }
   ],
   "source": [
    "fig, ax = plt.subplots()\n",
    "ax.set_xlim((-2, 2))\n",
    "ax.set_ylim((-6, 4))\n",
    "scat = ax.scatter([], [])\n",
    "anos = df['ano'].value_counts().sort_index().index.tolist()\n",
    "\n",
    "def init():\n",
    "    return (scat, ax)\n",
    "\n",
    "def animate(i):\n",
    "    part, x, y, = pca_over_year(anos[i])\n",
    "    data = np.array([x, y]).T\n",
    "    scat.set_offsets(data)\n",
    "    for x0, y0, path in zip(x, y, part):\n",
    "        ab = AnnotationBbox(getImage(path), (x0, y0), frameon=False)\n",
    "        ax.add_artist(ab)\n",
    "    return (scat,)\n",
    "\n",
    "anim = animation.FuncAnimation(fig, animate, init_func=init,\n",
    "                               frames=16, interval=2000, blit=True)\n",
    "\n",
    "HTML(anim.to_html5_video())\n",
    "\n"
   ]
  },
  {
   "cell_type": "code",
   "execution_count": null,
   "metadata": {},
   "outputs": [],
   "source": []
  }
 ],
 "metadata": {
  "kernelspec": {
   "display_name": "Python 3",
   "language": "python",
   "name": "python3"
  },
  "language_info": {
   "codemirror_mode": {
    "name": "ipython",
    "version": 3
   },
   "file_extension": ".py",
   "mimetype": "text/x-python",
   "name": "python",
   "nbconvert_exporter": "python",
   "pygments_lexer": "ipython3",
   "version": "3.7.0"
  }
 },
 "nbformat": 4,
 "nbformat_minor": 2
}
