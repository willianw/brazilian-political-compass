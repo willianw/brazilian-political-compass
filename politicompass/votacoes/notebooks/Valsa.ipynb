{
 "cells": [
  {
   "cell_type": "code",
   "execution_count": 8,
   "metadata": {},
   "outputs": [],
   "source": [
    "%matplotlib inline"
   ]
  },
  {
   "cell_type": "code",
   "execution_count": 7,
   "metadata": {},
   "outputs": [],
   "source": [
    "from sklearn.decomposition import PCA\n",
    "from matplotlib.offsetbox import OffsetImage, AnnotationBbox\n",
    "import numpy as np\n",
    "import matplotlib.pyplot as plt\n",
    "from matplotlib import animation, rc\n",
    "from IPython.display import HTML\n",
    "import glob\n",
    "import matplotlib.pyplot as plt\n",
    "import seaborn as sns\n",
    "import pandas as pd\n",
    "import numpy as np\n",
    "import PIL\n",
    "from datetime import datetime"
   ]
  },
  {
   "cell_type": "code",
   "execution_count": 10,
   "metadata": {},
   "outputs": [],
   "source": [
    "cand = pd.read_csv('data/candidatos.csv')\n",
    "votos = pd.read_csv('data/votos.csv')"
   ]
  },
  {
   "cell_type": "code",
   "execution_count": 11,
   "metadata": {},
   "outputs": [],
   "source": [
    "votos['date'] = votos['date'].apply(lambda x: datetime.strptime(x, '%Y-%m-%d %H:%M:%S'))\n",
    "votos['ano'] = votos['date'].apply(lambda x:x.year)"
   ]
  },
  {
   "cell_type": "code",
   "execution_count": 12,
   "metadata": {},
   "outputs": [],
   "source": [
    "df = pd.merge(cand[['ano', 'candidato_id', 'partido']],\n",
    "                votos, on=['candidato_id', 'ano'], how='inner')"
   ]
  },
  {
   "cell_type": "code",
   "execution_count": 13,
   "metadata": {},
   "outputs": [],
   "source": [
    "def pca_over_year(year):\n",
    "    v = pd.pivot_table(df[df['ano'] == year],\n",
    "                       values='voto',index=['candidato_id', 'partido'],\n",
    "                       columns='sessao_id', fill_value=0)\n",
    "    part = v.reset_index().drop('candidato_id', axis=1)\n",
    "    part = part.groupby('partido').mean()\n",
    "    x, y = PCA(2).fit_transform(part).T\n",
    "    return part.index.tolist(), x, y"
   ]
  },
  {
   "cell_type": "code",
   "execution_count": 14,
   "metadata": {},
   "outputs": [],
   "source": [
    "def cvtcolor(path):\n",
    "    PIL.Image.open(path).convert(\"RGBA\").save(path)"
   ]
  },
  {
   "cell_type": "code",
   "execution_count": 15,
   "metadata": {},
   "outputs": [],
   "source": [
    "def getImage(partido):\n",
    "    p = partido.upper().replace(' ', '')\n",
    "    path = glob.glob(f\"../logos/{p}.*\")[0]\n",
    "    img = PIL.Image.open(path)\n",
    "    img.thumbnail((50, 50))\n",
    "    return OffsetImage(img)\n",
    "\n",
    "def spectre(year):\n",
    "    fig, ax = plt.subplots(figsize=(20, 6))\n",
    "    part, x, y, = pca_over_year(year)\n",
    "    sns.scatterplot(-x, y, hue=part)\n",
    "    for x0, y0, path in zip(-x, y, part):\n",
    "        ab = AnnotationBbox(getImage(path), (x0, y0), frameon=False)\n",
    "        ax.add_artist(ab)"
   ]
  },
  {
   "cell_type": "code",
   "execution_count": 34,
   "metadata": {},
   "outputs": [
    {
     "name": "stdout",
     "output_type": "stream",
     "text": [
      "PCDOB PDT PFL PL PMDB PPB PPS PRONA PSB PSD PSDB PSTU PT PTB PV S.PART. PCDOB PDT PFL PL PMDB PPB PPS PRONA PSB PSD PSDB PSTU PT PTB PV S.PART. PCDOB PDT PFL PL PMDB PPB PPS PRONA PSB PSD PSDB PSTU PT PTB PV S.PART. PCDOB PDT PFL PL PMDB PPB PPS PRONA PSB PSD PSDB PSTU PT PTB PV S.PART. PCDOB PDT PFL PHS PL PMDB PPB PPS PSB PSC PSDB PSL PST PT PTB PTN PV S.PART. PCDOB PDT PFL PHS PL PMDB PPB PPS PSB PSDB PSL PST PT PTB PTN PV S.PART. PCDOB PDT PFL PHS PL PMDB PPB PPS PSB PSDB PSL PST PT PTB PTN PV S.PART. PCDOB PDT PFL PL PMDB PP PPS PR PSB PSC PSDB PSOL PT PTB PTC PV S.PART. PCDOB PDT PFL PL PMDB PP PPS PR PSB PSC PSDB PSOL PT PTB PTC PV S.PART. PCDOB PDT PFL PMDB PP PPS PR PSB PSC PSDB PSOL PT PTB PTC PV S.PART. DEM PCDOB PDT PHS PMDB PMN PP PPS PR PRB PRTB PSB PSC PSDB PSOL PT PTB PTC PTDOB PV DEM PCDOB PDT PHS PMDB PMN PP PPS PR PRB PRTB PSB PSC PSDB PSOL PT PTB PTC PTDOB PV DEM PCDOB PDT PHS PMDB PMN PP PPS PR PRB PSB PSC PSDB PSOL PT PTB PTC PTDOB PV DEM PCDOB PDT PMDB PMN PP PPS PR PRB PROS PRP PSB PSC PSD PSDB PSOL PT PTB PTC PTDOB PV S.PART. SD DEM PCDOB PDT PEN PMDB PMN PP PPS PR PRB PROS PRP PSB PSC PSD PSDB PSOL PT PTB PTDOB PV S.PART. SD DEM PCDOB PDT PEN PMDB PMN PP PPS PR PRB PROS PRP PSB PSC PSD PSDB PSDC PSOL PT PTB PTDOB PV S.PART. SD "
     ]
    },
    {
     "data": {
      "text/html": [
       "<video width=\"432\" height=\"288\" controls autoplay loop>\n",
       "  <source type=\"video/mp4\" src=\"data:video/mp4;base64,AAAAHGZ0eXBNNFYgAAACAGlzb21pc28yYXZjMQAAAAhmcmVlAAAEFm1kYXQAAAKtBgX//6ncRem9\n",
       "5tlIt5Ys2CDZI+7veDI2NCAtIGNvcmUgMTQ4IHIyNjQzIDVjNjU3MDQgLSBILjI2NC9NUEVHLTQg\n",
       "QVZDIGNvZGVjIC0gQ29weWxlZnQgMjAwMy0yMDE1IC0gaHR0cDovL3d3dy52aWRlb2xhbi5vcmcv\n",
       "eDI2NC5odG1sIC0gb3B0aW9uczogY2FiYWM9MSByZWY9MyBkZWJsb2NrPTE6MDowIGFuYWx5c2U9\n",
       "MHgzOjB4MTEzIG1lPWhleCBzdWJtZT03IHBzeT0xIHBzeV9yZD0xLjAwOjAuMDAgbWl4ZWRfcmVm\n",
       "PTEgbWVfcmFuZ2U9MTYgY2hyb21hX21lPTEgdHJlbGxpcz0xIDh4OGRjdD0xIGNxbT0wIGRlYWR6\n",
       "b25lPTIxLDExIGZhc3RfcHNraXA9MSBjaHJvbWFfcXBfb2Zmc2V0PS0yIHRocmVhZHM9NiBsb29r\n",
       "YWhlYWRfdGhyZWFkcz0xIHNsaWNlZF90aHJlYWRzPTAgbnI9MCBkZWNpbWF0ZT0xIGludGVybGFj\n",
       "ZWQ9MCBibHVyYXlfY29tcGF0PTAgY29uc3RyYWluZWRfaW50cmE9MCBiZnJhbWVzPTMgYl9weXJh\n",
       "bWlkPTIgYl9hZGFwdD0xIGJfYmlhcz0wIGRpcmVjdD0xIHdlaWdodGI9MSBvcGVuX2dvcD0wIHdl\n",
       "aWdodHA9MiBrZXlpbnQ9MjUwIGtleWludF9taW49MSBzY2VuZWN1dD00MCBpbnRyYV9yZWZyZXNo\n",
       "PTAgcmNfbG9va2FoZWFkPTQwIHJjPWNyZiBtYnRyZWU9MSBjcmY9MjMuMCBxY29tcD0wLjYwIHFw\n",
       "bWluPTAgcXBtYXg9NjkgcXBzdGVwPTQgaXBfcmF0aW89MS40MCBhcT0xOjEuMDAAgAAAAEZliIQA\n",
       "F//+99S3zLLtU2+2C6j3op4mX0N1JQGblsTtOoAAAAMABnddzdfZ7UFwH2gAB4wACWjNuRS4vU8t\n",
       "+YNxGU1OAAR9AAAAD0GaJGxBf/7aplgAAAMD7gAAAAxBnkJ4gt8AAAMAAb0AAAAMAZ5hdEFfAAAD\n",
       "AAK2AAAADAGeY2pBXwAAAwACtwAAABVBmmhJqEFomUwIL//+2qZYAAADA+8AAAAOQZ6GRREsFv8A\n",
       "AAMAAb0AAAAMAZ6ldEFfAAADAAK3AAAADAGep2pBXwAAAwACtgAAABVBmqxJqEFsmUwIL//+2qZY\n",
       "AAADA+4AAAAOQZ7KRRUsFv8AAAMAAb0AAAAMAZ7pdEFfAAADAAK2AAAADAGe62pBXwAAAwACtgAA\n",
       "ABVBmu9JqEFsmUwIK//+1qVQAAADA+8AAAAMQZ8OQgr/AAADAAK3AAAADQGfLWkQV/8AAAMAArcA\n",
       "AAPubW9vdgAAAGxtdmhkAAAAAAAAAAAAAAAAAAAD6AAAfQAAAQAAAQAAAAAAAAAAAAAAAAEAAAAA\n",
       "AAAAAAAAAAAAAAABAAAAAAAAAAAAAAAAAABAAAAAAAAAAAAAAAAAAAAAAAAAAAAAAAAAAAAAAAAA\n",
       "AgAAAxh0cmFrAAAAXHRraGQAAAADAAAAAAAAAAAAAAABAAAAAAAAfQAAAAAAAAAAAAAAAAAAAAAA\n",
       "AAEAAAAAAAAAAAAAAAAAAAABAAAAAAAAAAAAAAAAAABAAAAAAbAAAAEgAAAAAAAkZWR0cwAAABxl\n",
       "bHN0AAAAAAAAAAEAAH0AAAEAAAABAAAAAAKQbWRpYQAAACBtZGhkAAAAAAAAAAAAAAAAAABAAAAI\n",
       "AABVxAAAAAAALWhkbHIAAAAAAAAAAHZpZGUAAAAAAAAAAAAAAABWaWRlb0hhbmRsZXIAAAACO21p\n",
       "bmYAAAAUdm1oZAAAAAEAAAAAAAAAAAAAACRkaW5mAAAAHGRyZWYAAAAAAAAAAQAAAAx1cmwgAAAA\n",
       "AQAAAftzdGJsAAAAs3N0c2QAAAAAAAAAAQAAAKNhdmMxAAAAAAAAAAEAAAAAAAAAAAAAAAAAAAAA\n",
       "AbABIABIAAAASAAAAAAAAAABAAAAAAAAAAAAAAAAAAAAAAAAAAAAAAAAAAAAAAAAAAAAGP//AAAA\n",
       "MWF2Y0MBZAAV/+EAGGdkABWs2UGwloQAAAMACAAAAwAIPFi2WAEABmjr48siwAAAABx1dWlka2hA\n",
       "8l8kT8W6OaUbzwMj8wAAAAAAAAAYc3R0cwAAAAAAAAABAAAAEAAAgAAAAAAUc3RzcwAAAAAAAAAB\n",
       "AAAAAQAAAJBjdHRzAAAAAAAAABAAAAABAAEAAAAAAAEAAoAAAAAAAQABAAAAAAABAAAAAAAAAAEA\n",
       "AIAAAAAAAQACgAAAAAABAAEAAAAAAAEAAAAAAAAAAQAAgAAAAAABAAKAAAAAAAEAAQAAAAAAAQAA\n",
       "AAAAAAABAACAAAAAAAEAAgAAAAAAAQABAAAAAAABAAAAAAAAABxzdHNjAAAAAAAAAAEAAAABAAAA\n",
       "EAAAAAEAAABUc3RzegAAAAAAAAAAAAAAEAAAAvsAAAATAAAAEAAAABAAAAAQAAAAGQAAABIAAAAQ\n",
       "AAAAEAAAABkAAAASAAAAEAAAABAAAAAZAAAAEAAAABEAAAAUc3RjbwAAAAAAAAABAAAALAAAAGJ1\n",
       "ZHRhAAAAWm1ldGEAAAAAAAAAIWhkbHIAAAAAAAAAAG1kaXJhcHBsAAAAAAAAAAAAAAAALWlsc3QA\n",
       "AAAlqXRvbwAAAB1kYXRhAAAAAQAAAABMYXZmNTYuNDAuMTAx\n",
       "\">\n",
       "  Your browser does not support the video tag.\n",
       "</video>"
      ],
      "text/plain": [
       "<IPython.core.display.HTML object>"
      ]
     },
     "execution_count": 34,
     "metadata": {},
     "output_type": "execute_result"
    },
    {
     "data": {
      "image/png": "[encoded data removed]",
      "text/plain": [
       "<Figure size 432x288 with 1 Axes>"
      ]
     },
     "metadata": {
      "needs_background": "light"
     },
     "output_type": "display_data"
    }
   ],
   "source": [
    "fig, ax = plt.subplots()\n",
    "ax.set_xlim((-2, 2))\n",
    "ax.set_ylim((-6, 4))\n",
    "scat = ax.scatter([], [])\n",
    "anos = df['ano'].value_counts().sort_index().index.tolist()\n",
    "images = {}\n",
    "for x0, y0, path in zip(x, y, part):\n",
    "    ab = AnnotationBbox(getImage(path), (x0, y0), frameon=False)\n",
    "    ax.add_artist(ab)\n",
    "\n",
    "def init():\n",
    "    return (scat, ax)\n",
    "\n",
    "def animate(i):\n",
    "    part, x, y, = pca_over_year(anos[i])\n",
    "    data = np.array([x, y]).T\n",
    "    scat.set_offsets(data)\n",
    "    annotation.xytext\n",
    "    return (scat,)\n",
    "\n",
    "anim = animation.FuncAnimation(fig, animate, init_func=init,\n",
    "                               frames=16, interval=2000, blit=True)\n",
    "\n",
    "HTML(anim.to_html5_video())\n",
    "\n"
   ]
  },
  {
   "cell_type": "code",
   "execution_count": null,
   "metadata": {},
   "outputs": [],
   "source": []
  }
 ],
 "metadata": {
  "kernelspec": {
   "display_name": "Python 3",
   "language": "python",
   "name": "python3"
  },
  "language_info": {
   "codemirror_mode": {
    "name": "ipython",
    "version": 3
   },
   "file_extension": ".py",
   "mimetype": "text/x-python",
   "name": "python",
   "nbconvert_exporter": "python",
   "pygments_lexer": "ipython3",
   "version": "3.7.0"
  }
 },
 "nbformat": 4,
 "nbformat_minor": 2
}
